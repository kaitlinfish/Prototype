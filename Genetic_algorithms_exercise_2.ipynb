{
  "nbformat": 4,
  "nbformat_minor": 0,
  "metadata": {
    "colab": {
      "provenance": [],
      "toc_visible": true
    },
    "kernelspec": {
      "name": "python3",
      "display_name": "Python 3"
    },
    "language_info": {
      "name": "python"
    }
  },
  "cells": [
    {
      "cell_type": "markdown",
      "source": [
        "# Selection Problems Genetic Algorithms\n",
        "\n",
        "In this exercise sheet we explore the use of genetic algorithms to solve selection type problems.\n",
        "\n",
        "Each object in a list of object will either be selected or not..\n",
        "\n",
        "The individuals in the genetic algorithm for these problems will be a selection of these objects, where the chromosome could be a list of 1 (i.e. True) or 0 (i.e. False).\n",
        "\n",
        "But, to save memory, we will have a chromosome of True or False entries rather than the number 1 or 0.\n",
        "\n",
        "**Exercise 1**  Why does this save memory? If we wished to use 0's and 1's how would these be stored?"
      ],
      "metadata": {
        "id": "wJlxCLtG-Txb"
      }
    },
    {
      "cell_type": "code",
      "execution_count": null,
      "metadata": {
        "id": "mI4OOXV_-OAc"
      },
      "outputs": [],
      "source": [
        "import numpy as np"
      ]
    },
    {
      "cell_type": "code",
      "source": [
        "help(np.random.choice)"
      ],
      "metadata": {
        "id": "gp8N96UsBzhb"
      },
      "execution_count": null,
      "outputs": []
    },
    {
      "cell_type": "code",
      "source": [
        "np.random.choice([True,False],1000)"
      ],
      "metadata": {
        "id": "m94G7-52lujn"
      },
      "execution_count": null,
      "outputs": []
    },
    {
      "cell_type": "markdown",
      "source": [
        "**Exercise 2**  Use np.random.choice to create an array of size 1000 of True or False values\n",
        "\n",
        "**Exercise 3**  Incorporate into the problem and individual class shells' below\n"
      ],
      "metadata": {
        "id": "sBjj6sTHCbdt"
      }
    },
    {
      "cell_type": "code",
      "source": [
        "class problem:\n",
        "  def __init__(self):\n",
        "    self.number_of_genes = 1000\n",
        "    self.cost_function = None\n",
        "\n",
        "\n",
        "\n",
        "\n",
        "class individual:\n",
        "  # This class defines the individual for the genetic algorithm. We hope to find the individual which solves our problem\n",
        "  chromosone = None\n",
        "\n",
        "  def __init__(self, prob):    #  This is the constructor for the individual and as such needs the problem to mould the individuals to it\n",
        "    #Create a random individual.\n",
        "    self.chromosone =np.random.choice([True,False],prob.number_of_genes)\n",
        "\n",
        "\n",
        "  def crossover(self,other_parent):\n",
        "    return []\n",
        "\n",
        "  def mutate(self,mutation_rate, mutation_range = 0):\n",
        "\n",
        "    return\n"
      ],
      "metadata": {
        "collapsed": true,
        "id": "uCh1GR5VB6bD"
      },
      "execution_count": null,
      "outputs": []
    },
    {
      "cell_type": "code",
      "source": [
        "p = problem()"
      ],
      "metadata": {
        "id": "Y6qSkKzAoWhG"
      },
      "execution_count": null,
      "outputs": []
    },
    {
      "cell_type": "code",
      "source": [
        "p.number_of_genes = 10"
      ],
      "metadata": {
        "id": "eNLR7d4BoqzI"
      },
      "execution_count": null,
      "outputs": []
    },
    {
      "cell_type": "code",
      "source": [
        "ind1 = individual(p)"
      ],
      "metadata": {
        "id": "5OOkgqwzoaw4"
      },
      "execution_count": null,
      "outputs": []
    },
    {
      "cell_type": "code",
      "source": [
        "ind1.chromosone"
      ],
      "metadata": {
        "colab": {
          "base_uri": "https://localhost:8080/"
        },
        "id": "M9GXbvA0omLo",
        "outputId": "a75e04cf-3e6c-4548-be53-0777ba375616"
      },
      "execution_count": null,
      "outputs": [
        {
          "output_type": "execute_result",
          "data": {
            "text/plain": [
              "array([False,  True,  True,  True,  True,  True,  True,  True,  True,\n",
              "        True])"
            ]
          },
          "metadata": {},
          "execution_count": 8
        }
      ]
    },
    {
      "cell_type": "markdown",
      "source": [
        "**Exercise 4**  Use np.random.uniform to create an array of 1000 floating point values between 1 and 10, and store in the variable **weights**\n",
        "\n",
        "**Exercise 5**  How would you find the total weight of an individuals selection?\n"
      ],
      "metadata": {
        "id": "Uzye1BfGIrOi"
      }
    },
    {
      "cell_type": "code",
      "source": [
        "weights = np.random.uniform(1,10,1000)"
      ],
      "metadata": {
        "id": "0EBjG6GrIqTa"
      },
      "execution_count": null,
      "outputs": []
    },
    {
      "cell_type": "code",
      "source": [
        "weights"
      ],
      "metadata": {
        "colab": {
          "base_uri": "https://localhost:8080/",
          "height": 175
        },
        "id": "CodalsOwaqgo",
        "outputId": "44ca004a-1413-4ce1-b9f7-e1bc3cf4f078"
      },
      "execution_count": 18,
      "outputs": [
        {
          "output_type": "error",
          "ename": "NameError",
          "evalue": "name 'weights' is not defined",
          "traceback": [
            "\u001b[0;31m---------------------------------------------------------------------------\u001b[0m",
            "\u001b[0;31mNameError\u001b[0m                                 Traceback (most recent call last)",
            "\u001b[0;32m<ipython-input-18-6f5ec41569ac>\u001b[0m in \u001b[0;36m<cell line: 1>\u001b[0;34m()\u001b[0m\n\u001b[0;32m----> 1\u001b[0;31m \u001b[0mweights\u001b[0m\u001b[0;34m\u001b[0m\u001b[0;34m\u001b[0m\u001b[0m\n\u001b[0m",
            "\u001b[0;31mNameError\u001b[0m: name 'weights' is not defined"
          ]
        }
      ]
    },
    {
      "cell_type": "code",
      "source": [
        "p1 = problem()"
      ],
      "metadata": {
        "id": "hQJOpm9WWr1u"
      },
      "execution_count": null,
      "outputs": []
    },
    {
      "cell_type": "code",
      "source": [
        "i1= individual(p1)"
      ],
      "metadata": {
        "id": "UZgN0ga2WfTw"
      },
      "execution_count": null,
      "outputs": []
    },
    {
      "cell_type": "code",
      "source": [
        "\n",
        "def totalWeight(individual1):\n",
        "  return sum(weights[i1.chromosone])"
      ],
      "metadata": {
        "id": "6I1_bxcjWOc_"
      },
      "execution_count": null,
      "outputs": []
    },
    {
      "cell_type": "code",
      "source": [
        "print(\"total weight of individual selection:\", sum(weights[i1.chromosone]))"
      ],
      "metadata": {
        "id": "Dps4RyhQXAb5",
        "outputId": "763267dc-3624-4122-88ee-e4ff67d67c8d",
        "colab": {
          "base_uri": "https://localhost:8080/"
        }
      },
      "execution_count": null,
      "outputs": [
        {
          "output_type": "stream",
          "name": "stdout",
          "text": [
            "total weight of individual selection: 2800.6709270073156\n"
          ]
        }
      ]
    },
    {
      "cell_type": "markdown",
      "source": [
        "**Exercise 6**  Use np.random.randint to create an array of 1000 integer values between 0 and 50, and store in the variable **values**\n",
        "\n",
        "**Exercise 7**  How would you find the total value of an individuals selection?\n",
        "\n",
        "**Exercise 8**   What is the total weight and value of all items?"
      ],
      "metadata": {
        "id": "iJt94QdfKwXJ"
      }
    },
    {
      "cell_type": "code",
      "source": [
        "\n",
        "\n",
        "values = np.random.randint(0,50,1000)"
      ],
      "metadata": {
        "id": "1yQxY2tcKvt6"
      },
      "execution_count": 14,
      "outputs": []
    },
    {
      "cell_type": "code",
      "source": [
        "values"
      ],
      "metadata": {
        "id": "KfVzMa72amg_"
      },
      "execution_count": null,
      "outputs": []
    },
    {
      "cell_type": "code",
      "source": [
        "p2 = problem()"
      ],
      "metadata": {
        "id": "-yB31BYHaTe4"
      },
      "execution_count": null,
      "outputs": []
    },
    {
      "cell_type": "code",
      "source": [
        "i2 = individual(p2)"
      ],
      "metadata": {
        "id": "EWiixr_xX8cA"
      },
      "execution_count": null,
      "outputs": []
    },
    {
      "cell_type": "code",
      "source": [
        "def totalValue(individual2):\n",
        "return sum(values[i2.chromosone])"
      ],
      "metadata": {
        "id": "qfV6mYM-YC83"
      },
      "execution_count": null,
      "outputs": []
    },
    {
      "cell_type": "code",
      "source": [
        "print(\"total values of individual selection:\", sum(values[i2.chromosone]))"
      ],
      "metadata": {
        "id": "c-D4s9rbYPPw"
      },
      "execution_count": null,
      "outputs": []
    },
    {
      "cell_type": "code",
      "source": [
        "#find total weights and values of all items\n",
        "\n",
        "print(\"total weights:\",sum(weights))\n",
        "print(\"total values\", sum(values))\n"
      ],
      "metadata": {
        "id": "QOGHhLj6axn-"
      },
      "execution_count": null,
      "outputs": []
    },
    {
      "cell_type": "markdown",
      "source": [
        "**Exercise 9**  Implement the mutate method for this. Is there any other way mutation could be done for these types of problems?"
      ],
      "metadata": {
        "id": "qtQn4Z6z3lMk"
      }
    },
    {
      "cell_type": "code",
      "source": [],
      "metadata": {
        "id": "6d4JXiNqIlba"
      },
      "execution_count": null,
      "outputs": []
    },
    {
      "cell_type": "markdown",
      "source": [
        "**Exercise 10**  Implement the crossover method with 1 crossover point.  With more than 1 crossover point?\n"
      ],
      "metadata": {
        "id": "fFxCoOCC4Kv_"
      }
    },
    {
      "cell_type": "code",
      "source": [],
      "metadata": {
        "id": "5xreSe884Jq-"
      },
      "execution_count": null,
      "outputs": []
    },
    {
      "cell_type": "markdown",
      "source": [
        "**Exercise 11**  Use the run_genetic algorithm to find the most valuable selection of items with a combined weight of less than 60."
      ],
      "metadata": {
        "id": "xZx7xKvo4f0n"
      }
    },
    {
      "cell_type": "code",
      "source": [],
      "metadata": {
        "id": "vWsf4ae3C1t2"
      },
      "execution_count": null,
      "outputs": []
    }
  ]
}